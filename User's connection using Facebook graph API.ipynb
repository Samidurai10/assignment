{
 "cells": [
  {
   "cell_type": "code",
   "execution_count": null,
   "id": "692b3973",
   "metadata": {},
   "outputs": [],
   "source": []
  },
  {
   "cell_type": "code",
   "execution_count": null,
   "id": "d1336fb6",
   "metadata": {},
   "outputs": [],
   "source": []
  },
  {
   "cell_type": "code",
   "execution_count": 1,
   "id": "755a77dc",
   "metadata": {},
   "outputs": [],
   "source": [
    "ACCESS_TOKEN=\"EAARHhj4gHNgBACPWzPpF5w7KB5FQwF96nCIX5nYjqff8ZAN0atZAq0iZAl2MM6JPZA16v4WnDSA5PZC8kZCUJjkZArBqaKYwYZA7axphKpZCuZA0Ay92D3DYqC0DuQrc3ln4wboj3ouzgblEE5lTeM7o8ZCINZA0lZByP619fSUtJ2WilsnZAZAEc9ISFNs9XAhZBdYcv3b55I1AeKsZA38joLCY5XZC863Hb9F1vQJu0NUgaw0pKwZBsUItuHK0Fkd\""
   ]
  },
  {
   "cell_type": "code",
   "execution_count": 2,
   "id": "671d1452",
   "metadata": {},
   "outputs": [],
   "source": [
    "import facebook\n",
    "import urllib3\n",
    "import requests\n",
    "import json"
   ]
  },
  {
   "cell_type": "code",
   "execution_count": 3,
   "id": "9b51778a",
   "metadata": {},
   "outputs": [
    {
     "name": "stdout",
     "output_type": "stream",
     "text": [
      "{\n",
      " \"name\": \"Sami Durai\",\n",
      " \"id\": \"731406828120871\"\n",
      "}\n"
     ]
    }
   ],
   "source": [
    "def pp(o):\n",
    "    print(json.dumps(o, indent=1))\n",
    "g = facebook.GraphAPI(ACCESS_TOKEN, version='2.10')\n",
    "pp(g.get_object('me'))"
   ]
  },
  {
   "cell_type": "code",
   "execution_count": 7,
   "id": "beded6b9",
   "metadata": {
    "scrolled": true
   },
   "outputs": [
    {
     "name": "stdout",
     "output_type": "stream",
     "text": [
      "{\n",
      " \"data\": [\n",
      "  {\n",
      "   \"name\": \"MPL Rummy\",\n",
      "   \"id\": \"473278526840069\",\n",
      "   \"created_time\": \"2019-11-29T11:42:18+0000\"\n",
      "  }\n",
      " ],\n",
      " \"paging\": {\n",
      "  \"cursors\": {\n",
      "   \"before\": \"NDczMjc4NTI2ODQwMDY5\",\n",
      "   \"after\": \"NDczMjc4NTI2ODQwMDY5\"\n",
      "  }\n",
      " }\n",
      "}\n",
      "{\n",
      " \"data\": [],\n",
      " \"summary\": {\n",
      "  \"total_count\": 31\n",
      " }\n",
      "}\n",
      "{\n",
      " \"data\": [\n",
      "  {\n",
      "   \"created_time\": \"2020-05-09T10:30:09+0000\",\n",
      "   \"id\": \"731406828120871_231103388151220\"\n",
      "  },\n",
      "  {\n",
      "   \"created_time\": \"2020-04-29T10:07:23+0000\",\n",
      "   \"id\": \"731406828120871_225047485423477\"\n",
      "  },\n",
      "  {\n",
      "   \"created_time\": \"2020-04-08T10:38:57+0000\",\n",
      "   \"id\": \"731406828120871_211688403426052\"\n",
      "  },\n",
      "  {\n",
      "   \"created_time\": \"2020-03-20T07:37:13+0000\",\n",
      "   \"id\": \"731406828120871_199823067945919\"\n",
      "  },\n",
      "  {\n",
      "   \"created_time\": \"2001-08-08T07:00:00+0000\",\n",
      "   \"id\": \"731406828120871_100578124537081\"\n",
      "  }\n",
      " ],\n",
      " \"paging\": {\n",
      "  \"previous\": \"https://graph.facebook.com/v14.0/731406828120871/feed?access_token=EAARHhj4gHNgBACPWzPpF5w7KB5FQwF96nCIX5nYjqff8ZAN0atZAq0iZAl2MM6JPZA16v4WnDSA5PZC8kZCUJjkZArBqaKYwYZA7axphKpZCuZA0Ay92D3DYqC0DuQrc3ln4wboj3ouzgblEE5lTeM7o8ZCINZA0lZByP619fSUtJ2WilsnZAZAEc9ISFNs9XAhZBdYcv3b55I1AeKsZA38joLCY5XZC863Hb9F1vQJu0NUgaw0pKwZBsUItuHK0Fkd&__previous=1&since=1589020209&until&__paging_token=enc_AdBpChTfUUK9mDyIuGvEkdPbUb3cXk2njZAEChyE2V88U39Au1v4OrzUgtIylepPpWYIl72je7WMU8l0tMpoJXYZBBhbEJyFis6AENpgrjGeHWZAneGlR9zyIyY4SKzBBkMoofHTl6IN3Y8Euk5ZB5uDLgQZC\",\n",
      "  \"next\": \"https://graph.facebook.com/v14.0/731406828120871/feed?access_token=EAARHhj4gHNgBACPWzPpF5w7KB5FQwF96nCIX5nYjqff8ZAN0atZAq0iZAl2MM6JPZA16v4WnDSA5PZC8kZCUJjkZArBqaKYwYZA7axphKpZCuZA0Ay92D3DYqC0DuQrc3ln4wboj3ouzgblEE5lTeM7o8ZCINZA0lZByP619fSUtJ2WilsnZAZAEc9ISFNs9XAhZBdYcv3b55I1AeKsZA38joLCY5XZC863Hb9F1vQJu0NUgaw0pKwZBsUItuHK0Fkd&until=997254000&since&__paging_token=enc_AdDKkoF5wxmdNYZB3Ds6nX2aeB7SH8gPF1uRMMJA7uZAYRgjBORuIdGmqR2Bj6aFdSkB4jv0BNXJOijcgcBEvJWb0GxPpGrzxYTkjN3DkyRO3DyoQM6URSYXwlFSxIOMUTZAGlsg2d6heATCxMZA4GA8c9jX&__previous\"\n",
      " }\n",
      "}\n",
      "{\n",
      " \"data\": []\n",
      "}\n"
     ]
    }
   ],
   "source": [
    "pp(g.get_connections(id='me', connection_name='likes'))\n",
    "pp(g.get_connections(id='me', connection_name='friends'))\n",
    "pp(g.get_connections(id='me', connection_name='feed'))\n",
    "pp(g.get_connections(id='me', connection_name='groups'))"
   ]
  },
  {
   "cell_type": "markdown",
   "id": "1b473039",
   "metadata": {},
   "source": [
    "### Step 5: Get Information about a feed in your facebook page"
   ]
  },
  {
   "cell_type": "code",
   "execution_count": 8,
   "id": "36bedf83",
   "metadata": {},
   "outputs": [
    {
     "name": "stdout",
     "output_type": "stream",
     "text": [
      "{\n",
      " \"data\": [\n",
      "  {\n",
      "   \"id\": \"731406828120871_231103388151220\"\n",
      "  },\n",
      "  {\n",
      "   \"id\": \"731406828120871_225047485423477\"\n",
      "  },\n",
      "  {\n",
      "   \"id\": \"731406828120871_211688403426052\"\n",
      "  },\n",
      "  {\n",
      "   \"id\": \"731406828120871_199823067945919\"\n",
      "  },\n",
      "  {\n",
      "   \"id\": \"731406828120871_100578124537081\"\n",
      "  }\n",
      " ],\n",
      " \"paging\": {\n",
      "  \"previous\": \"https://graph.facebook.com/v14.0/731406828120871/feed?access_token=EAARHhj4gHNgBACPWzPpF5w7KB5FQwF96nCIX5nYjqff8ZAN0atZAq0iZAl2MM6JPZA16v4WnDSA5PZC8kZCUJjkZArBqaKYwYZA7axphKpZCuZA0Ay92D3DYqC0DuQrc3ln4wboj3ouzgblEE5lTeM7o8ZCINZA0lZByP619fSUtJ2WilsnZAZAEc9ISFNs9XAhZBdYcv3b55I1AeKsZA38joLCY5XZC863Hb9F1vQJu0NUgaw0pKwZBsUItuHK0Fkd&fields=information&__previous=1&since=1589020209&until&__paging_token=enc_AdBpChTfUUK9mDyIuGvEkdPbUb3cXk2njZAEChyE2V88U39Au1v4OrzUgtIylepPpWYIl72je7WMU8l0tMpoJXYZBBhbEJyFis6AENpgrjGeHWZAneGlR9zyIyY4SKzBBkMoofHTl6IN3Y8Euk5ZB5uDLgQZC\",\n",
      "  \"next\": \"https://graph.facebook.com/v14.0/731406828120871/feed?access_token=EAARHhj4gHNgBACPWzPpF5w7KB5FQwF96nCIX5nYjqff8ZAN0atZAq0iZAl2MM6JPZA16v4WnDSA5PZC8kZCUJjkZArBqaKYwYZA7axphKpZCuZA0Ay92D3DYqC0DuQrc3ln4wboj3ouzgblEE5lTeM7o8ZCINZA0lZByP619fSUtJ2WilsnZAZAEc9ISFNs9XAhZBdYcv3b55I1AeKsZA38joLCY5XZC863Hb9F1vQJu0NUgaw0pKwZBsUItuHK0Fkd&fields=information&until=997254000&since&__paging_token=enc_AdDKkoF5wxmdNYZB3Ds6nX2aeB7SH8gPF1uRMMJA7uZAYRgjBORuIdGmqR2Bj6aFdSkB4jv0BNXJOijcgcBEvJWb0GxPpGrzxYTkjN3DkyRO3DyoQM6URSYXwlFSxIOMUTZAGlsg2d6heATCxMZA4GA8c9jX&__previous\"\n",
      " }\n",
      "}\n"
     ]
    }
   ],
   "source": [
    "pp(g.get_connections(id='me', connection_name='feed', fields='information', limit='100'))"
   ]
  },
  {
   "cell_type": "markdown",
   "id": "9b6e75aa",
   "metadata": {},
   "source": [
    "### Step 6: Get the metrics towards engagement of connections towards your Facebook post"
   ]
  },
  {
   "cell_type": "code",
   "execution_count": 9,
   "id": "69e78459",
   "metadata": {},
   "outputs": [
    {
     "name": "stdout",
     "output_type": "stream",
     "text": [
      "{\n",
      " \"data\": [\n",
      "  {\n",
      "   \"created_time\": \"2020-05-09T10:30:09+0000\",\n",
      "   \"id\": \"731406828120871_231103388151220\"\n",
      "  },\n",
      "  {\n",
      "   \"caption\": \"bigcash.live\",\n",
      "   \"created_time\": \"2020-04-29T10:07:23+0000\",\n",
      "   \"description\": \"Download the Bigcash Game and play your favourite games like Cricket,Car Race,Basketball and many more! Win Real Money! Withdraw instantly with Paytm !More than 2 lakh daily winners.\",\n",
      "   \"id\": \"731406828120871_225047485423477\"\n",
      "  },\n",
      "  {\n",
      "   \"caption\": \"bigcash.live\",\n",
      "   \"created_time\": \"2020-04-08T10:38:57+0000\",\n",
      "   \"description\": \"Download the Bigcash Game and play your favourite games like Cricket,Car Race,Basketball and many more! Win Real Money! Withdraw instantly with Paytm !More than 2 lakh daily winners.\",\n",
      "   \"id\": \"731406828120871_211688403426052\"\n",
      "  },\n",
      "  {\n",
      "   \"caption\": \"bigcash.live\",\n",
      "   \"created_time\": \"2020-03-20T07:37:13+0000\",\n",
      "   \"description\": \"Download the Bigcash Game and play your favourite games like Cricket,Car Race,Basketball and many more! Win Real Money! Withdraw instantly with Paytm !More than 2 lakh daily winners.\",\n",
      "   \"id\": \"731406828120871_199823067945919\"\n",
      "  },\n",
      "  {\n",
      "   \"caption\": \"Born\",\n",
      "   \"created_time\": \"2001-08-08T07:00:00+0000\",\n",
      "   \"id\": \"731406828120871_100578124537081\"\n",
      "  }\n",
      " ],\n",
      " \"paging\": {\n",
      "  \"previous\": \"https://graph.facebook.com/v14.0/731406828120871/posts?access_token=EAARHhj4gHNgBACPWzPpF5w7KB5FQwF96nCIX5nYjqff8ZAN0atZAq0iZAl2MM6JPZA16v4WnDSA5PZC8kZCUJjkZArBqaKYwYZA7axphKpZCuZA0Ay92D3DYqC0DuQrc3ln4wboj3ouzgblEE5lTeM7o8ZCINZA0lZByP619fSUtJ2WilsnZAZAEc9ISFNs9XAhZBdYcv3b55I1AeKsZA38joLCY5XZC863Hb9F1vQJu0NUgaw0pKwZBsUItuHK0Fkd&fields=caption%2Ccreated_time%2Cdescription&__previous=1&since=1589020209&until&__paging_token=enc_AdBpChTfUUK9mDyIuGvEkdPbUb3cXk2njZAEChyE2V88U39Au1v4OrzUgtIylepPpWYIl72je7WMU8l0tMpoJXYZBBhbEJyFis6AENpgrjGeHWZAneGlR9zyIyY4SKzBBkMoofHTl6IN3Y8Euk5ZB5uDLgQZC\",\n",
      "  \"next\": \"https://graph.facebook.com/v14.0/731406828120871/posts?access_token=EAARHhj4gHNgBACPWzPpF5w7KB5FQwF96nCIX5nYjqff8ZAN0atZAq0iZAl2MM6JPZA16v4WnDSA5PZC8kZCUJjkZArBqaKYwYZA7axphKpZCuZA0Ay92D3DYqC0DuQrc3ln4wboj3ouzgblEE5lTeM7o8ZCINZA0lZByP619fSUtJ2WilsnZAZAEc9ISFNs9XAhZBdYcv3b55I1AeKsZA38joLCY5XZC863Hb9F1vQJu0NUgaw0pKwZBsUItuHK0Fkd&fields=caption%2Ccreated_time%2Cdescription&until=997254000&since&__paging_token=enc_AdDKkoF5wxmdNYZB3Ds6nX2aeB7SH8gPF1uRMMJA7uZAYRgjBORuIdGmqR2Bj6aFdSkB4jv0BNXJOijcgcBEvJWb0GxPpGrzxYTkjN3DkyRO3DyoQM6URSYXwlFSxIOMUTZAGlsg2d6heATCxMZA4GA8c9jX&__previous\"\n",
      " }\n",
      "}\n"
     ]
    }
   ],
   "source": [
    "pp(g.get_connections(id='me', connection_name='posts', fields='caption,created_time,description', limit='100'))"
   ]
  },
  {
   "cell_type": "code",
   "execution_count": null,
   "id": "9d463cb8",
   "metadata": {},
   "outputs": [],
   "source": []
  },
  {
   "cell_type": "code",
   "execution_count": null,
   "id": "f15f979d",
   "metadata": {},
   "outputs": [],
   "source": []
  }
 ],
 "metadata": {
  "kernelspec": {
   "display_name": "Python 3",
   "language": "python",
   "name": "python3"
  },
  "language_info": {
   "codemirror_mode": {
    "name": "ipython",
    "version": 3
   },
   "file_extension": ".py",
   "mimetype": "text/x-python",
   "name": "python",
   "nbconvert_exporter": "python",
   "pygments_lexer": "ipython3",
   "version": "3.8.8"
  }
 },
 "nbformat": 4,
 "nbformat_minor": 5
}
